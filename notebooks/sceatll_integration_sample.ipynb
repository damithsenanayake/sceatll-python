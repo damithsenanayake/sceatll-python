{
 "cells": [
  {
   "cell_type": "markdown",
   "metadata": {},
   "source": [
    "# Evolvable Atlasses for Single Cells using SCEATLL\n",
    "\n",
    "This notebook demonstrates the simple workflow of integrating multiple RNA-Seq data sources into a single evolvable atlas. \n"
   ]
  },
  {
   "cell_type": "code",
   "execution_count": 1,
   "metadata": {},
   "outputs": [
    {
     "ename": "ModuleNotFoundError",
     "evalue": "No module named 'sceatll_integrate'",
     "output_type": "error",
     "traceback": [
      "\u001b[0;31m---------------------------------------------------------------------------\u001b[0m",
      "\u001b[0;31mModuleNotFoundError\u001b[0m                       Traceback (most recent call last)",
      "Cell \u001b[0;32mIn[1], line 2\u001b[0m\n\u001b[1;32m      1\u001b[0m \u001b[38;5;28;01mfrom\u001b[39;00m \u001b[38;5;21;01msong\u001b[39;00m\u001b[38;5;21;01m.\u001b[39;00m\u001b[38;5;21;01mumap_song\u001b[39;00m \u001b[38;5;28;01mimport\u001b[39;00m SONG\n\u001b[0;32m----> 2\u001b[0m \u001b[38;5;28;01mfrom\u001b[39;00m \u001b[38;5;21;01msceatll_integrate\u001b[39;00m \u001b[38;5;28;01mimport\u001b[39;00m SCEATLL_INTEGRATE\n",
      "\u001b[0;31mModuleNotFoundError\u001b[0m: No module named 'sceatll_integrate'"
     ]
    }
   ],
   "source": [
    "from song.umap_song import SONG\n",
    "from sceatll_integrate import SCEATLL_INTEGRATE\n",
    "import time as t"
   ]
  },
  {
   "cell_type": "markdown",
   "metadata": {},
   "source": [
    "First, let's create a SONG model to handle the incremental addition of datasets."
   ]
  },
  {
   "cell_type": "code",
   "execution_count": null,
   "metadata": {},
   "outputs": [],
   "source": [
    "model = SONG(verbose=1, final_vector_count=1400, n_neighbors=4, fvc_growth=0.2)\n"
   ]
  },
  {
   "cell_type": "markdown",
   "metadata": {},
   "source": [
    "Next, place the ```.h5ad``` files into a folder named according to the source of the data. Copy all the folders into the same location. We specify this folder to be the ```input_path```.\n",
    "\n",
    "The directory structure should look like below. \n",
    "\n",
    "```\n",
    "|-input_folder\n",
    "  |-onek1k\n",
    "    |-local.h5ad\n",
    "  |-lupus\n",
    "    |-local.h5ad\n",
    "  |-covid\n",
    "    |-local.h5ad\n",
    "    .\n",
    "    .\n",
    "    .\n",
    "\n",
    "```\n",
    "\n"
   ]
  },
  {
   "cell_type": "markdown",
   "metadata": {},
   "source": [
    "### Preprocessing configurations\n",
    "For each of the h5ad files, we consider the following two preprocessing steps. \n",
    "* counts per million normalisation\n",
    "* log1p logarithmisation\n",
    "We only employ these to preprocessing steps to keep it as simple as possible. "
   ]
  },
  {
   "cell_type": "code",
   "execution_count": null,
   "metadata": {},
   "outputs": [],
   "source": [
    "\n",
    "sources = [ 'onek1k_full', 'lupus', 'covid', 'combat', 'local_covid']\n",
    "logar = [ True, True, True, True, True]\n",
    "normar = [ True, True, True, True, True]\n"
   ]
  },
  {
   "cell_type": "code",
   "execution_count": null,
   "metadata": {},
   "outputs": [],
   "source": [
    "st = t.time()\n",
    "SCEATLL_INTEGRATE(model, sources,'/your/input/folder/', '/your/output/folder/')\n",
    "et = t.time()\n",
    "\n",
    "print(f' the whole thing ran in {et-st} seconds ')"
   ]
  }
 ],
 "metadata": {
  "kernelspec": {
   "display_name": "Python 3",
   "language": "python",
   "name": "python3"
  },
  "language_info": {
   "codemirror_mode": {
    "name": "ipython",
    "version": 3
   },
   "file_extension": ".py",
   "mimetype": "text/x-python",
   "name": "python",
   "nbconvert_exporter": "python",
   "pygments_lexer": "ipython3",
   "version": "3.10.7"
  }
 },
 "nbformat": 4,
 "nbformat_minor": 2
}
